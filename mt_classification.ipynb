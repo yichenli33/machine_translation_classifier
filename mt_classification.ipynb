{
  "nbformat": 4,
  "nbformat_minor": 0,
  "metadata": {
    "colab": {
      "name": "mt_classification.ipynb",
      "provenance": [],
      "toc_visible": true,
      "machine_shape": "hm"
    },
    "kernelspec": {
      "name": "python3",
      "display_name": "Python 3"
    },
    "accelerator": "GPU",
    "widgets": {
      "application/vnd.jupyter.widget-state+json": {
        "21d9b476b69f4fb08e2b476cc0de02d6": {
          "model_module": "@jupyter-widgets/controls",
          "model_name": "HBoxModel",
          "state": {
            "_view_name": "HBoxView",
            "_dom_classes": [],
            "_model_name": "HBoxModel",
            "_view_module": "@jupyter-widgets/controls",
            "_model_module_version": "1.5.0",
            "_view_count": null,
            "_view_module_version": "1.5.0",
            "box_style": "",
            "layout": "IPY_MODEL_8d73236cb0d94c34ba8bd9aabb9f64e2",
            "_model_module": "@jupyter-widgets/controls",
            "children": [
              "IPY_MODEL_cc693f6c3b064f1ab7d1544379fefd0d",
              "IPY_MODEL_414c0a941a3d420aa29f70d3b1326698"
            ]
          }
        },
        "8d73236cb0d94c34ba8bd9aabb9f64e2": {
          "model_module": "@jupyter-widgets/base",
          "model_name": "LayoutModel",
          "state": {
            "_view_name": "LayoutView",
            "grid_template_rows": null,
            "right": null,
            "justify_content": null,
            "_view_module": "@jupyter-widgets/base",
            "overflow": null,
            "_model_module_version": "1.2.0",
            "_view_count": null,
            "flex_flow": null,
            "width": null,
            "min_width": null,
            "border": null,
            "align_items": null,
            "bottom": null,
            "_model_module": "@jupyter-widgets/base",
            "top": null,
            "grid_column": null,
            "overflow_y": null,
            "overflow_x": null,
            "grid_auto_flow": null,
            "grid_area": null,
            "grid_template_columns": null,
            "flex": null,
            "_model_name": "LayoutModel",
            "justify_items": null,
            "grid_row": null,
            "max_height": null,
            "align_content": null,
            "visibility": null,
            "align_self": null,
            "height": null,
            "min_height": null,
            "padding": null,
            "grid_auto_rows": null,
            "grid_gap": null,
            "max_width": null,
            "order": null,
            "_view_module_version": "1.2.0",
            "grid_template_areas": null,
            "object_position": null,
            "object_fit": null,
            "grid_auto_columns": null,
            "margin": null,
            "display": null,
            "left": null
          }
        },
        "cc693f6c3b064f1ab7d1544379fefd0d": {
          "model_module": "@jupyter-widgets/controls",
          "model_name": "FloatProgressModel",
          "state": {
            "_view_name": "ProgressView",
            "style": "IPY_MODEL_6191c03bf9d64ebc9a743273c485e220",
            "_dom_classes": [],
            "description": "Downloading: 100%",
            "_model_name": "FloatProgressModel",
            "bar_style": "success",
            "max": 231508,
            "_view_module": "@jupyter-widgets/controls",
            "_model_module_version": "1.5.0",
            "value": 231508,
            "_view_count": null,
            "_view_module_version": "1.5.0",
            "orientation": "horizontal",
            "min": 0,
            "description_tooltip": null,
            "_model_module": "@jupyter-widgets/controls",
            "layout": "IPY_MODEL_cd8cc94d1e0b4481a7b990c83f0cc1f9"
          }
        },
        "414c0a941a3d420aa29f70d3b1326698": {
          "model_module": "@jupyter-widgets/controls",
          "model_name": "HTMLModel",
          "state": {
            "_view_name": "HTMLView",
            "style": "IPY_MODEL_6dba627f2c774530a93ff6227570c2c7",
            "_dom_classes": [],
            "description": "",
            "_model_name": "HTMLModel",
            "placeholder": "​",
            "_view_module": "@jupyter-widgets/controls",
            "_model_module_version": "1.5.0",
            "value": " 232k/232k [00:00&lt;00:00, 641kB/s]",
            "_view_count": null,
            "_view_module_version": "1.5.0",
            "description_tooltip": null,
            "_model_module": "@jupyter-widgets/controls",
            "layout": "IPY_MODEL_e2047025a5164daba0446a787adb159c"
          }
        },
        "6191c03bf9d64ebc9a743273c485e220": {
          "model_module": "@jupyter-widgets/controls",
          "model_name": "ProgressStyleModel",
          "state": {
            "_view_name": "StyleView",
            "_model_name": "ProgressStyleModel",
            "description_width": "initial",
            "_view_module": "@jupyter-widgets/base",
            "_model_module_version": "1.5.0",
            "_view_count": null,
            "_view_module_version": "1.2.0",
            "bar_color": null,
            "_model_module": "@jupyter-widgets/controls"
          }
        },
        "cd8cc94d1e0b4481a7b990c83f0cc1f9": {
          "model_module": "@jupyter-widgets/base",
          "model_name": "LayoutModel",
          "state": {
            "_view_name": "LayoutView",
            "grid_template_rows": null,
            "right": null,
            "justify_content": null,
            "_view_module": "@jupyter-widgets/base",
            "overflow": null,
            "_model_module_version": "1.2.0",
            "_view_count": null,
            "flex_flow": null,
            "width": null,
            "min_width": null,
            "border": null,
            "align_items": null,
            "bottom": null,
            "_model_module": "@jupyter-widgets/base",
            "top": null,
            "grid_column": null,
            "overflow_y": null,
            "overflow_x": null,
            "grid_auto_flow": null,
            "grid_area": null,
            "grid_template_columns": null,
            "flex": null,
            "_model_name": "LayoutModel",
            "justify_items": null,
            "grid_row": null,
            "max_height": null,
            "align_content": null,
            "visibility": null,
            "align_self": null,
            "height": null,
            "min_height": null,
            "padding": null,
            "grid_auto_rows": null,
            "grid_gap": null,
            "max_width": null,
            "order": null,
            "_view_module_version": "1.2.0",
            "grid_template_areas": null,
            "object_position": null,
            "object_fit": null,
            "grid_auto_columns": null,
            "margin": null,
            "display": null,
            "left": null
          }
        },
        "6dba627f2c774530a93ff6227570c2c7": {
          "model_module": "@jupyter-widgets/controls",
          "model_name": "DescriptionStyleModel",
          "state": {
            "_view_name": "StyleView",
            "_model_name": "DescriptionStyleModel",
            "description_width": "",
            "_view_module": "@jupyter-widgets/base",
            "_model_module_version": "1.5.0",
            "_view_count": null,
            "_view_module_version": "1.2.0",
            "_model_module": "@jupyter-widgets/controls"
          }
        },
        "e2047025a5164daba0446a787adb159c": {
          "model_module": "@jupyter-widgets/base",
          "model_name": "LayoutModel",
          "state": {
            "_view_name": "LayoutView",
            "grid_template_rows": null,
            "right": null,
            "justify_content": null,
            "_view_module": "@jupyter-widgets/base",
            "overflow": null,
            "_model_module_version": "1.2.0",
            "_view_count": null,
            "flex_flow": null,
            "width": null,
            "min_width": null,
            "border": null,
            "align_items": null,
            "bottom": null,
            "_model_module": "@jupyter-widgets/base",
            "top": null,
            "grid_column": null,
            "overflow_y": null,
            "overflow_x": null,
            "grid_auto_flow": null,
            "grid_area": null,
            "grid_template_columns": null,
            "flex": null,
            "_model_name": "LayoutModel",
            "justify_items": null,
            "grid_row": null,
            "max_height": null,
            "align_content": null,
            "visibility": null,
            "align_self": null,
            "height": null,
            "min_height": null,
            "padding": null,
            "grid_auto_rows": null,
            "grid_gap": null,
            "max_width": null,
            "order": null,
            "_view_module_version": "1.2.0",
            "grid_template_areas": null,
            "object_position": null,
            "object_fit": null,
            "grid_auto_columns": null,
            "margin": null,
            "display": null,
            "left": null
          }
        },
        "73998ed21efa4ecb9a7e87672d6f46ed": {
          "model_module": "@jupyter-widgets/controls",
          "model_name": "HBoxModel",
          "state": {
            "_view_name": "HBoxView",
            "_dom_classes": [],
            "_model_name": "HBoxModel",
            "_view_module": "@jupyter-widgets/controls",
            "_model_module_version": "1.5.0",
            "_view_count": null,
            "_view_module_version": "1.5.0",
            "box_style": "",
            "layout": "IPY_MODEL_4a9fcf538f0747f6910f58fd10a7b88e",
            "_model_module": "@jupyter-widgets/controls",
            "children": [
              "IPY_MODEL_064a821b7dcb4ffe8709ff8e2b53a65b",
              "IPY_MODEL_9fb5acdd6bb74acf8286fd86b6c56935"
            ]
          }
        },
        "4a9fcf538f0747f6910f58fd10a7b88e": {
          "model_module": "@jupyter-widgets/base",
          "model_name": "LayoutModel",
          "state": {
            "_view_name": "LayoutView",
            "grid_template_rows": null,
            "right": null,
            "justify_content": null,
            "_view_module": "@jupyter-widgets/base",
            "overflow": null,
            "_model_module_version": "1.2.0",
            "_view_count": null,
            "flex_flow": null,
            "width": null,
            "min_width": null,
            "border": null,
            "align_items": null,
            "bottom": null,
            "_model_module": "@jupyter-widgets/base",
            "top": null,
            "grid_column": null,
            "overflow_y": null,
            "overflow_x": null,
            "grid_auto_flow": null,
            "grid_area": null,
            "grid_template_columns": null,
            "flex": null,
            "_model_name": "LayoutModel",
            "justify_items": null,
            "grid_row": null,
            "max_height": null,
            "align_content": null,
            "visibility": null,
            "align_self": null,
            "height": null,
            "min_height": null,
            "padding": null,
            "grid_auto_rows": null,
            "grid_gap": null,
            "max_width": null,
            "order": null,
            "_view_module_version": "1.2.0",
            "grid_template_areas": null,
            "object_position": null,
            "object_fit": null,
            "grid_auto_columns": null,
            "margin": null,
            "display": null,
            "left": null
          }
        },
        "064a821b7dcb4ffe8709ff8e2b53a65b": {
          "model_module": "@jupyter-widgets/controls",
          "model_name": "FloatProgressModel",
          "state": {
            "_view_name": "ProgressView",
            "style": "IPY_MODEL_4349bb297ba24aebb08a5087c43bf61d",
            "_dom_classes": [],
            "description": "Downloading: 100%",
            "_model_name": "FloatProgressModel",
            "bar_style": "success",
            "max": 433,
            "_view_module": "@jupyter-widgets/controls",
            "_model_module_version": "1.5.0",
            "value": 433,
            "_view_count": null,
            "_view_module_version": "1.5.0",
            "orientation": "horizontal",
            "min": 0,
            "description_tooltip": null,
            "_model_module": "@jupyter-widgets/controls",
            "layout": "IPY_MODEL_1dad868baa474b5887df8bb4c5d049a1"
          }
        },
        "9fb5acdd6bb74acf8286fd86b6c56935": {
          "model_module": "@jupyter-widgets/controls",
          "model_name": "HTMLModel",
          "state": {
            "_view_name": "HTMLView",
            "style": "IPY_MODEL_e2c2dc70dc8f401a98956e53632a3773",
            "_dom_classes": [],
            "description": "",
            "_model_name": "HTMLModel",
            "placeholder": "​",
            "_view_module": "@jupyter-widgets/controls",
            "_model_module_version": "1.5.0",
            "value": " 433/433 [00:00&lt;00:00, 1.17kB/s]",
            "_view_count": null,
            "_view_module_version": "1.5.0",
            "description_tooltip": null,
            "_model_module": "@jupyter-widgets/controls",
            "layout": "IPY_MODEL_1fc05fc7cda845598c736a29fdb65d7d"
          }
        },
        "4349bb297ba24aebb08a5087c43bf61d": {
          "model_module": "@jupyter-widgets/controls",
          "model_name": "ProgressStyleModel",
          "state": {
            "_view_name": "StyleView",
            "_model_name": "ProgressStyleModel",
            "description_width": "initial",
            "_view_module": "@jupyter-widgets/base",
            "_model_module_version": "1.5.0",
            "_view_count": null,
            "_view_module_version": "1.2.0",
            "bar_color": null,
            "_model_module": "@jupyter-widgets/controls"
          }
        },
        "1dad868baa474b5887df8bb4c5d049a1": {
          "model_module": "@jupyter-widgets/base",
          "model_name": "LayoutModel",
          "state": {
            "_view_name": "LayoutView",
            "grid_template_rows": null,
            "right": null,
            "justify_content": null,
            "_view_module": "@jupyter-widgets/base",
            "overflow": null,
            "_model_module_version": "1.2.0",
            "_view_count": null,
            "flex_flow": null,
            "width": null,
            "min_width": null,
            "border": null,
            "align_items": null,
            "bottom": null,
            "_model_module": "@jupyter-widgets/base",
            "top": null,
            "grid_column": null,
            "overflow_y": null,
            "overflow_x": null,
            "grid_auto_flow": null,
            "grid_area": null,
            "grid_template_columns": null,
            "flex": null,
            "_model_name": "LayoutModel",
            "justify_items": null,
            "grid_row": null,
            "max_height": null,
            "align_content": null,
            "visibility": null,
            "align_self": null,
            "height": null,
            "min_height": null,
            "padding": null,
            "grid_auto_rows": null,
            "grid_gap": null,
            "max_width": null,
            "order": null,
            "_view_module_version": "1.2.0",
            "grid_template_areas": null,
            "object_position": null,
            "object_fit": null,
            "grid_auto_columns": null,
            "margin": null,
            "display": null,
            "left": null
          }
        },
        "e2c2dc70dc8f401a98956e53632a3773": {
          "model_module": "@jupyter-widgets/controls",
          "model_name": "DescriptionStyleModel",
          "state": {
            "_view_name": "StyleView",
            "_model_name": "DescriptionStyleModel",
            "description_width": "",
            "_view_module": "@jupyter-widgets/base",
            "_model_module_version": "1.5.0",
            "_view_count": null,
            "_view_module_version": "1.2.0",
            "_model_module": "@jupyter-widgets/controls"
          }
        },
        "1fc05fc7cda845598c736a29fdb65d7d": {
          "model_module": "@jupyter-widgets/base",
          "model_name": "LayoutModel",
          "state": {
            "_view_name": "LayoutView",
            "grid_template_rows": null,
            "right": null,
            "justify_content": null,
            "_view_module": "@jupyter-widgets/base",
            "overflow": null,
            "_model_module_version": "1.2.0",
            "_view_count": null,
            "flex_flow": null,
            "width": null,
            "min_width": null,
            "border": null,
            "align_items": null,
            "bottom": null,
            "_model_module": "@jupyter-widgets/base",
            "top": null,
            "grid_column": null,
            "overflow_y": null,
            "overflow_x": null,
            "grid_auto_flow": null,
            "grid_area": null,
            "grid_template_columns": null,
            "flex": null,
            "_model_name": "LayoutModel",
            "justify_items": null,
            "grid_row": null,
            "max_height": null,
            "align_content": null,
            "visibility": null,
            "align_self": null,
            "height": null,
            "min_height": null,
            "padding": null,
            "grid_auto_rows": null,
            "grid_gap": null,
            "max_width": null,
            "order": null,
            "_view_module_version": "1.2.0",
            "grid_template_areas": null,
            "object_position": null,
            "object_fit": null,
            "grid_auto_columns": null,
            "margin": null,
            "display": null,
            "left": null
          }
        },
        "ae786818c08e4ee59fb0498a7fda2300": {
          "model_module": "@jupyter-widgets/controls",
          "model_name": "HBoxModel",
          "state": {
            "_view_name": "HBoxView",
            "_dom_classes": [],
            "_model_name": "HBoxModel",
            "_view_module": "@jupyter-widgets/controls",
            "_model_module_version": "1.5.0",
            "_view_count": null,
            "_view_module_version": "1.5.0",
            "box_style": "",
            "layout": "IPY_MODEL_6d008e0f216443b9a59aebd00b41412b",
            "_model_module": "@jupyter-widgets/controls",
            "children": [
              "IPY_MODEL_75645ecfa6744f5aaaec459fba11f27a",
              "IPY_MODEL_3254a2b32a504a27ad8d9be42a66a590"
            ]
          }
        },
        "6d008e0f216443b9a59aebd00b41412b": {
          "model_module": "@jupyter-widgets/base",
          "model_name": "LayoutModel",
          "state": {
            "_view_name": "LayoutView",
            "grid_template_rows": null,
            "right": null,
            "justify_content": null,
            "_view_module": "@jupyter-widgets/base",
            "overflow": null,
            "_model_module_version": "1.2.0",
            "_view_count": null,
            "flex_flow": null,
            "width": null,
            "min_width": null,
            "border": null,
            "align_items": null,
            "bottom": null,
            "_model_module": "@jupyter-widgets/base",
            "top": null,
            "grid_column": null,
            "overflow_y": null,
            "overflow_x": null,
            "grid_auto_flow": null,
            "grid_area": null,
            "grid_template_columns": null,
            "flex": null,
            "_model_name": "LayoutModel",
            "justify_items": null,
            "grid_row": null,
            "max_height": null,
            "align_content": null,
            "visibility": null,
            "align_self": null,
            "height": null,
            "min_height": null,
            "padding": null,
            "grid_auto_rows": null,
            "grid_gap": null,
            "max_width": null,
            "order": null,
            "_view_module_version": "1.2.0",
            "grid_template_areas": null,
            "object_position": null,
            "object_fit": null,
            "grid_auto_columns": null,
            "margin": null,
            "display": null,
            "left": null
          }
        },
        "75645ecfa6744f5aaaec459fba11f27a": {
          "model_module": "@jupyter-widgets/controls",
          "model_name": "FloatProgressModel",
          "state": {
            "_view_name": "ProgressView",
            "style": "IPY_MODEL_984e67d857b44da684c7c8ec2d17054d",
            "_dom_classes": [],
            "description": "Downloading: 100%",
            "_model_name": "FloatProgressModel",
            "bar_style": "success",
            "max": 440473133,
            "_view_module": "@jupyter-widgets/controls",
            "_model_module_version": "1.5.0",
            "value": 440473133,
            "_view_count": null,
            "_view_module_version": "1.5.0",
            "orientation": "horizontal",
            "min": 0,
            "description_tooltip": null,
            "_model_module": "@jupyter-widgets/controls",
            "layout": "IPY_MODEL_1e21730a0007467bb5ae8228dc7ac28f"
          }
        },
        "3254a2b32a504a27ad8d9be42a66a590": {
          "model_module": "@jupyter-widgets/controls",
          "model_name": "HTMLModel",
          "state": {
            "_view_name": "HTMLView",
            "style": "IPY_MODEL_e55d0c9215dd4da5a11c9c02d2607733",
            "_dom_classes": [],
            "description": "",
            "_model_name": "HTMLModel",
            "placeholder": "​",
            "_view_module": "@jupyter-widgets/controls",
            "_model_module_version": "1.5.0",
            "value": " 440M/440M [38:26&lt;00:00, 191kB/s]",
            "_view_count": null,
            "_view_module_version": "1.5.0",
            "description_tooltip": null,
            "_model_module": "@jupyter-widgets/controls",
            "layout": "IPY_MODEL_b424f2cae9644867a83430cc29e0f66c"
          }
        },
        "984e67d857b44da684c7c8ec2d17054d": {
          "model_module": "@jupyter-widgets/controls",
          "model_name": "ProgressStyleModel",
          "state": {
            "_view_name": "StyleView",
            "_model_name": "ProgressStyleModel",
            "description_width": "initial",
            "_view_module": "@jupyter-widgets/base",
            "_model_module_version": "1.5.0",
            "_view_count": null,
            "_view_module_version": "1.2.0",
            "bar_color": null,
            "_model_module": "@jupyter-widgets/controls"
          }
        },
        "1e21730a0007467bb5ae8228dc7ac28f": {
          "model_module": "@jupyter-widgets/base",
          "model_name": "LayoutModel",
          "state": {
            "_view_name": "LayoutView",
            "grid_template_rows": null,
            "right": null,
            "justify_content": null,
            "_view_module": "@jupyter-widgets/base",
            "overflow": null,
            "_model_module_version": "1.2.0",
            "_view_count": null,
            "flex_flow": null,
            "width": null,
            "min_width": null,
            "border": null,
            "align_items": null,
            "bottom": null,
            "_model_module": "@jupyter-widgets/base",
            "top": null,
            "grid_column": null,
            "overflow_y": null,
            "overflow_x": null,
            "grid_auto_flow": null,
            "grid_area": null,
            "grid_template_columns": null,
            "flex": null,
            "_model_name": "LayoutModel",
            "justify_items": null,
            "grid_row": null,
            "max_height": null,
            "align_content": null,
            "visibility": null,
            "align_self": null,
            "height": null,
            "min_height": null,
            "padding": null,
            "grid_auto_rows": null,
            "grid_gap": null,
            "max_width": null,
            "order": null,
            "_view_module_version": "1.2.0",
            "grid_template_areas": null,
            "object_position": null,
            "object_fit": null,
            "grid_auto_columns": null,
            "margin": null,
            "display": null,
            "left": null
          }
        },
        "e55d0c9215dd4da5a11c9c02d2607733": {
          "model_module": "@jupyter-widgets/controls",
          "model_name": "DescriptionStyleModel",
          "state": {
            "_view_name": "StyleView",
            "_model_name": "DescriptionStyleModel",
            "description_width": "",
            "_view_module": "@jupyter-widgets/base",
            "_model_module_version": "1.5.0",
            "_view_count": null,
            "_view_module_version": "1.2.0",
            "_model_module": "@jupyter-widgets/controls"
          }
        },
        "b424f2cae9644867a83430cc29e0f66c": {
          "model_module": "@jupyter-widgets/base",
          "model_name": "LayoutModel",
          "state": {
            "_view_name": "LayoutView",
            "grid_template_rows": null,
            "right": null,
            "justify_content": null,
            "_view_module": "@jupyter-widgets/base",
            "overflow": null,
            "_model_module_version": "1.2.0",
            "_view_count": null,
            "flex_flow": null,
            "width": null,
            "min_width": null,
            "border": null,
            "align_items": null,
            "bottom": null,
            "_model_module": "@jupyter-widgets/base",
            "top": null,
            "grid_column": null,
            "overflow_y": null,
            "overflow_x": null,
            "grid_auto_flow": null,
            "grid_area": null,
            "grid_template_columns": null,
            "flex": null,
            "_model_name": "LayoutModel",
            "justify_items": null,
            "grid_row": null,
            "max_height": null,
            "align_content": null,
            "visibility": null,
            "align_self": null,
            "height": null,
            "min_height": null,
            "padding": null,
            "grid_auto_rows": null,
            "grid_gap": null,
            "max_width": null,
            "order": null,
            "_view_module_version": "1.2.0",
            "grid_template_areas": null,
            "object_position": null,
            "object_fit": null,
            "grid_auto_columns": null,
            "margin": null,
            "display": null,
            "left": null
          }
        }
      }
    }
  },
  "cells": [
    {
      "cell_type": "code",
      "metadata": {
        "id": "D8yvtaIDiFuV"
      },
      "source": [
        "# coding: utf8"
      ],
      "execution_count": 1,
      "outputs": []
    },
    {
      "cell_type": "code",
      "metadata": {
        "id": "dU9ZvGz8fPHT"
      },
      "source": [
        "import os\n",
        "import collections\n",
        "import json\n",
        "import string\n",
        "import re\n",
        "import torch\n",
        "from torch.utils.data import Dataset, DataLoader\n",
        "import torch.nn as nn\n",
        "import torch.nn.functional as F\n",
        "import torch.optim as optim\n",
        "import pandas as pd\n",
        "from itertools import chain\n",
        "import numpy as np\n",
        "import gc\n",
        "from torchtext import data\n",
        "from torchtext.data import Field, Example\n",
        "import torchtext.vocab as vocab"
      ],
      "execution_count": 2,
      "outputs": []
    },
    {
      "cell_type": "code",
      "metadata": {
        "colab": {
          "base_uri": "https://localhost:8080/"
        },
        "id": "UDTpVde3hd9n",
        "outputId": "90765bc9-c0eb-4dfa-c14c-ddbdeeab1994"
      },
      "source": [
        "from google.colab import drive\n",
        "import os\n",
        "drive.mount('/content/drive', force_remount=True)"
      ],
      "execution_count": 3,
      "outputs": [
        {
          "output_type": "stream",
          "text": [
            "Mounted at /content/drive\n"
          ],
          "name": "stdout"
        }
      ]
    },
    {
      "cell_type": "code",
      "metadata": {
        "id": "UF9OyedpwPe8"
      },
      "source": [
        "get_device = lambda : \"cuda:0\" if torch.cuda.is_available() else \"cpu\""
      ],
      "execution_count": 4,
      "outputs": []
    },
    {
      "cell_type": "code",
      "metadata": {
        "id": "VxYfGQ-Kgq2P"
      },
      "source": [
        "train_path = os.path.join(os.getcwd(), \"drive\", \"My Drive\", \"Colab Notebooks\", \"train.txt\")\n",
        "test_path = os.path.join(os.getcwd(), \"drive\", \"My Drive\", \"Colab Notebooks\", \"test.txt\")"
      ],
      "execution_count": 5,
      "outputs": []
    },
    {
      "cell_type": "code",
      "metadata": {
        "id": "Z9cnGbALg7Ku"
      },
      "source": [
        "data_list = []\n",
        "entry = []\n",
        "with open(train_path, 'r') as f:\n",
        "  for line in f:\n",
        "    if line is \"\\n\":\n",
        "      data_list.append(list(chain.from_iterable(entry)))\n",
        "      entry = []\n",
        "    else:\n",
        "      entry.append(line.strip().split('\\t'))"
      ],
      "execution_count": 6,
      "outputs": []
    },
    {
      "cell_type": "code",
      "metadata": {
        "id": "xRBI2ZpYkE31"
      },
      "source": [
        "test_list = []\n",
        "entry = []\n",
        "with open(test_path, 'r') as f:\n",
        "  for line in f:\n",
        "    if line is \"\\n\":\n",
        "      test_list.append(list(chain.from_iterable(entry)))\n",
        "      entry = []\n",
        "    else:\n",
        "      entry.append(line.strip().split('\\t'))"
      ],
      "execution_count": 7,
      "outputs": []
    },
    {
      "cell_type": "code",
      "metadata": {
        "colab": {
          "base_uri": "https://localhost:8080/"
        },
        "id": "zwTD4ImPhVLY",
        "outputId": "f2a4ee5b-6b7c-44f0-d653-8a1b286e95c8"
      },
      "source": [
        "data_list[0]"
      ],
      "execution_count": 9,
      "outputs": [
        {
          "output_type": "execute_result",
          "data": {
            "text/plain": [
              "['巴林 公主 下 嫁 美 大兵 惊 世 婚姻 五 年 宣告 破裂',\n",
              " 'bahraini princess marries us soldier , astonishing 5 year bond comes to end',\n",
              " 'bahraini princess marries a u.s. soldier ; astounding marriage dissolves in 5 years',\n",
              " '0.3125',\n",
              " 'H']"
            ]
          },
          "metadata": {
            "tags": []
          },
          "execution_count": 9
        }
      ]
    },
    {
      "cell_type": "code",
      "metadata": {
        "colab": {
          "base_uri": "https://localhost:8080/"
        },
        "id": "FhSZICrujqsa",
        "outputId": "4bc6f0a1-7e98-48d0-f73c-2e048d5a0852"
      },
      "source": [
        "test_list[0]"
      ],
      "execution_count": 10,
      "outputs": [
        {
          "output_type": "execute_result",
          "data": {
            "text/plain": [
              "['发言人 说 , 世人 共 知 , 中国 的 发展 不仅 符合 13 亿 中国人民 的 根本利益 , 也 有利于 世界 的 繁荣 与 发展 .',\n",
              " \"the spokesman noted that it is known to all the world that china's development is not only in the fundamental interests of the 1.3 billion chinese people but also beneficial to the world's prosperity and development .\",\n",
              " \"the spokesman said , the world , a total of 13 million , not only conforms to the development of the people's interests , but also conducive to world prosperity and development .\",\n",
              " '0.5100',\n",
              " 'M']"
            ]
          },
          "metadata": {
            "tags": []
          },
          "execution_count": 10
        }
      ]
    },
    {
      "cell_type": "code",
      "metadata": {
        "id": "DP7WBuwtkMn7"
      },
      "source": [
        "train_df = pd.DataFrame(data_list, columns=['source', 'reference', 'target', 'score', 'label'])\n",
        "test_df = pd.DataFrame(test_list, columns=['source', 'reference', 'target', 'score', 'label'])"
      ],
      "execution_count": 8,
      "outputs": []
    },
    {
      "cell_type": "code",
      "metadata": {
        "id": "UkNtn38T54vU"
      },
      "source": [
        "train_df.loc[train_df.label == 'H', 'numLabel'] = 1\n",
        "train_df.loc[train_df.label == 'M', 'numLabel'] = 0"
      ],
      "execution_count": 9,
      "outputs": []
    },
    {
      "cell_type": "code",
      "metadata": {
        "id": "V0zuRq776klq"
      },
      "source": [
        "test_df.loc[test_df.label == 'M', 'numLabel'] = 0\n",
        "test_df.loc[test_df.label == 'H', 'numLabel'] = 1"
      ],
      "execution_count": 56,
      "outputs": []
    },
    {
      "cell_type": "code",
      "metadata": {
        "colab": {
          "base_uri": "https://localhost:8080/",
          "height": 512
        },
        "id": "5XUikvbQp_vh",
        "outputId": "f324b6af-d1a3-4d5c-9210-08ce6eed6637"
      },
      "source": [
        "test_df.sample(10)"
      ],
      "execution_count": 65,
      "outputs": [
        {
          "output_type": "execute_result",
          "data": {
            "text/html": [
              "<div>\n",
              "<style scoped>\n",
              "    .dataframe tbody tr th:only-of-type {\n",
              "        vertical-align: middle;\n",
              "    }\n",
              "\n",
              "    .dataframe tbody tr th {\n",
              "        vertical-align: top;\n",
              "    }\n",
              "\n",
              "    .dataframe thead th {\n",
              "        text-align: right;\n",
              "    }\n",
              "</style>\n",
              "<table border=\"1\" class=\"dataframe\">\n",
              "  <thead>\n",
              "    <tr style=\"text-align: right;\">\n",
              "      <th></th>\n",
              "      <th>source</th>\n",
              "      <th>reference</th>\n",
              "      <th>target</th>\n",
              "      <th>score</th>\n",
              "      <th>label</th>\n",
              "      <th>numLabel</th>\n",
              "    </tr>\n",
              "  </thead>\n",
              "  <tbody>\n",
              "    <tr>\n",
              "      <th>53</th>\n",
              "      <td>三峡 工程 地下 电站 即将 开工 建设</td>\n",
              "      <td>three gorges project's underground powerhouse ...</td>\n",
              "      <td>the three gorges project will begin constructi...</td>\n",
              "      <td>0.4545</td>\n",
              "      <td>M</td>\n",
              "      <td>0.0</td>\n",
              "    </tr>\n",
              "    <tr>\n",
              "      <th>69</th>\n",
              "      <td>郑和 是 世界 著名 航海家 .</td>\n",
              "      <td>zheng he is a world famous navigator .</td>\n",
              "      <td>a world renowned navigator zheng he .</td>\n",
              "      <td>0.7430</td>\n",
              "      <td>M</td>\n",
              "      <td>0.0</td>\n",
              "    </tr>\n",
              "    <tr>\n",
              "      <th>46</th>\n",
              "      <td>托 莱 多 指出 , 尽管 安 共 体 内部 有 不少 问题 有待 解决 , 但 近年来 拉...</td>\n",
              "      <td>toledo pointed out that although many issues n...</td>\n",
              "      <td>toledo noted that , despite the many problems ...</td>\n",
              "      <td>0.6727</td>\n",
              "      <td>H</td>\n",
              "      <td>1.0</td>\n",
              "    </tr>\n",
              "    <tr>\n",
              "      <th>97</th>\n",
              "      <td>这 一 项目 与 国际 计划 中国 \" 供水 与 环境卫生 \" 项目 合作 后 , 将 推动...</td>\n",
              "      <td>its cooperation with plan international's chin...</td>\n",
              "      <td>this project and the international plan of the...</td>\n",
              "      <td>0.5330</td>\n",
              "      <td>M</td>\n",
              "      <td>0.0</td>\n",
              "    </tr>\n",
              "    <tr>\n",
              "      <th>54</th>\n",
              "      <td>新华社 武汉 12 月 8 日 电 ( 记者 施 勇峰 ) 12 月 8 日 , 长江三峡 ...</td>\n",
              "      <td>xinhua news agency report of december 8th from...</td>\n",
              "      <td>wuhan , december 8 ( xinhua ) two billion yuan...</td>\n",
              "      <td>0.3291</td>\n",
              "      <td>M</td>\n",
              "      <td>0.0</td>\n",
              "    </tr>\n",
              "    <tr>\n",
              "      <th>156</th>\n",
              "      <td>2000 年 至 2002 年间 , 欧洲 吸 毒死 亡 人数 减少 了 20% .</td>\n",
              "      <td>between 2000 and 2002 , drug-related deaths in...</td>\n",
              "      <td>in 2000 and 2002 , the number of drug related ...</td>\n",
              "      <td>0.6111</td>\n",
              "      <td>H</td>\n",
              "      <td>1.0</td>\n",
              "    </tr>\n",
              "    <tr>\n",
              "      <th>168</th>\n",
              "      <td>关 塔 那 摩 美国 海军基地 目前 关押 了 约 550 名 \" 基地 \" 组织 和 塔 ...</td>\n",
              "      <td>there are around 550 \" al-qaeda \" and taliban ...</td>\n",
              "      <td>currently , 550 suspected members of al-qaeda ...</td>\n",
              "      <td>0.4595</td>\n",
              "      <td>H</td>\n",
              "      <td>1.0</td>\n",
              "    </tr>\n",
              "    <tr>\n",
              "      <th>74</th>\n",
              "      <td>设计者 为 陕西省 西安 市 一 中学 美术 教师 姚 颖 .</td>\n",
              "      <td>the designer is yao ying , a fine arts teacher...</td>\n",
              "      <td>the shaanxi provincial capital base of a secon...</td>\n",
              "      <td>0.3227</td>\n",
              "      <td>M</td>\n",
              "      <td>0.0</td>\n",
              "    </tr>\n",
              "    <tr>\n",
              "      <th>40</th>\n",
              "      <td>( 国际 ) 安 共 体 总统 理事会 在 秘鲁 举行 特别 会议</td>\n",
              "      <td>( international ) extraordinary summit of the ...</td>\n",
              "      <td>( international ) andean presidential council ...</td>\n",
              "      <td>0.6822</td>\n",
              "      <td>M</td>\n",
              "      <td>0.0</td>\n",
              "    </tr>\n",
              "    <tr>\n",
              "      <th>93</th>\n",
              "      <td>11 月 上旬 , 科 政府 军 与 法国 驻 科 部队 发生 严重 冲突 后 , 科 局势...</td>\n",
              "      <td>the situation in the ivory coast further deter...</td>\n",
              "      <td>in early november , a serious clash occurred b...</td>\n",
              "      <td>0.5938</td>\n",
              "      <td>H</td>\n",
              "      <td>1.0</td>\n",
              "    </tr>\n",
              "  </tbody>\n",
              "</table>\n",
              "</div>"
            ],
            "text/plain": [
              "                                                source  ... numLabel\n",
              "53                                三峡 工程 地下 电站 即将 开工 建设  ...      0.0\n",
              "69                                    郑和 是 世界 著名 航海家 .  ...      0.0\n",
              "46   托 莱 多 指出 , 尽管 安 共 体 内部 有 不少 问题 有待 解决 , 但 近年来 拉...  ...      1.0\n",
              "97   这 一 项目 与 国际 计划 中国 \" 供水 与 环境卫生 \" 项目 合作 后 , 将 推动...  ...      0.0\n",
              "54   新华社 武汉 12 月 8 日 电 ( 记者 施 勇峰 ) 12 月 8 日 , 长江三峡 ...  ...      0.0\n",
              "156         2000 年 至 2002 年间 , 欧洲 吸 毒死 亡 人数 减少 了 20% .  ...      1.0\n",
              "168  关 塔 那 摩 美国 海军基地 目前 关押 了 约 550 名 \" 基地 \" 组织 和 塔 ...  ...      1.0\n",
              "74                     设计者 为 陕西省 西安 市 一 中学 美术 教师 姚 颖 .  ...      0.0\n",
              "40                   ( 国际 ) 安 共 体 总统 理事会 在 秘鲁 举行 特别 会议  ...      0.0\n",
              "93   11 月 上旬 , 科 政府 军 与 法国 驻 科 部队 发生 严重 冲突 后 , 科 局势...  ...      1.0\n",
              "\n",
              "[10 rows x 6 columns]"
            ]
          },
          "metadata": {
            "tags": []
          },
          "execution_count": 65
        }
      ]
    },
    {
      "cell_type": "markdown",
      "metadata": {
        "id": "4zTJXFS5saZo"
      },
      "source": [
        "### Bert Model pre-process\n"
      ]
    },
    {
      "cell_type": "code",
      "metadata": {
        "colab": {
          "base_uri": "https://localhost:8080/"
        },
        "id": "MRef4Xj6sdpz",
        "outputId": "1d90996f-5338-4012-dda4-3ab6f6691c03"
      },
      "source": [
        "!pip install transformers"
      ],
      "execution_count": 12,
      "outputs": [
        {
          "output_type": "stream",
          "text": [
            "Collecting transformers\n",
            "\u001b[?25l  Downloading https://files.pythonhosted.org/packages/88/b1/41130a228dd656a1a31ba281598a968320283f48d42782845f6ba567f00b/transformers-4.2.2-py3-none-any.whl (1.8MB)\n",
            "\u001b[K     |████████████████████████████████| 1.8MB 13.7MB/s \n",
            "\u001b[?25hRequirement already satisfied: regex!=2019.12.17 in /usr/local/lib/python3.6/dist-packages (from transformers) (2019.12.20)\n",
            "Collecting sacremoses\n",
            "\u001b[?25l  Downloading https://files.pythonhosted.org/packages/7d/34/09d19aff26edcc8eb2a01bed8e98f13a1537005d31e95233fd48216eed10/sacremoses-0.0.43.tar.gz (883kB)\n",
            "\u001b[K     |████████████████████████████████| 890kB 50.4MB/s \n",
            "\u001b[?25hCollecting tokenizers==0.9.4\n",
            "\u001b[?25l  Downloading https://files.pythonhosted.org/packages/0f/1c/e789a8b12e28be5bc1ce2156cf87cb522b379be9cadc7ad8091a4cc107c4/tokenizers-0.9.4-cp36-cp36m-manylinux2010_x86_64.whl (2.9MB)\n",
            "\u001b[K     |████████████████████████████████| 2.9MB 59.9MB/s \n",
            "\u001b[?25hRequirement already satisfied: packaging in /usr/local/lib/python3.6/dist-packages (from transformers) (20.8)\n",
            "Requirement already satisfied: numpy in /usr/local/lib/python3.6/dist-packages (from transformers) (1.19.5)\n",
            "Requirement already satisfied: dataclasses; python_version < \"3.7\" in /usr/local/lib/python3.6/dist-packages (from transformers) (0.8)\n",
            "Requirement already satisfied: importlib-metadata; python_version < \"3.8\" in /usr/local/lib/python3.6/dist-packages (from transformers) (3.4.0)\n",
            "Requirement already satisfied: requests in /usr/local/lib/python3.6/dist-packages (from transformers) (2.23.0)\n",
            "Requirement already satisfied: filelock in /usr/local/lib/python3.6/dist-packages (from transformers) (3.0.12)\n",
            "Requirement already satisfied: tqdm>=4.27 in /usr/local/lib/python3.6/dist-packages (from transformers) (4.41.1)\n",
            "Requirement already satisfied: six in /usr/local/lib/python3.6/dist-packages (from sacremoses->transformers) (1.15.0)\n",
            "Requirement already satisfied: click in /usr/local/lib/python3.6/dist-packages (from sacremoses->transformers) (7.1.2)\n",
            "Requirement already satisfied: joblib in /usr/local/lib/python3.6/dist-packages (from sacremoses->transformers) (1.0.0)\n",
            "Requirement already satisfied: pyparsing>=2.0.2 in /usr/local/lib/python3.6/dist-packages (from packaging->transformers) (2.4.7)\n",
            "Requirement already satisfied: zipp>=0.5 in /usr/local/lib/python3.6/dist-packages (from importlib-metadata; python_version < \"3.8\"->transformers) (3.4.0)\n",
            "Requirement already satisfied: typing-extensions>=3.6.4; python_version < \"3.8\" in /usr/local/lib/python3.6/dist-packages (from importlib-metadata; python_version < \"3.8\"->transformers) (3.7.4.3)\n",
            "Requirement already satisfied: urllib3!=1.25.0,!=1.25.1,<1.26,>=1.21.1 in /usr/local/lib/python3.6/dist-packages (from requests->transformers) (1.24.3)\n",
            "Requirement already satisfied: chardet<4,>=3.0.2 in /usr/local/lib/python3.6/dist-packages (from requests->transformers) (3.0.4)\n",
            "Requirement already satisfied: certifi>=2017.4.17 in /usr/local/lib/python3.6/dist-packages (from requests->transformers) (2020.12.5)\n",
            "Requirement already satisfied: idna<3,>=2.5 in /usr/local/lib/python3.6/dist-packages (from requests->transformers) (2.10)\n",
            "Building wheels for collected packages: sacremoses\n",
            "  Building wheel for sacremoses (setup.py) ... \u001b[?25l\u001b[?25hdone\n",
            "  Created wheel for sacremoses: filename=sacremoses-0.0.43-cp36-none-any.whl size=893261 sha256=b49e42a9a3c07c35f5ef84f0f1e00e0e7e2189016ac2774069668cdd8d7fd4dc\n",
            "  Stored in directory: /root/.cache/pip/wheels/29/3c/fd/7ce5c3f0666dab31a50123635e6fb5e19ceb42ce38d4e58f45\n",
            "Successfully built sacremoses\n",
            "Installing collected packages: sacremoses, tokenizers, transformers\n",
            "Successfully installed sacremoses-0.0.43 tokenizers-0.9.4 transformers-4.2.2\n"
          ],
          "name": "stdout"
        }
      ]
    },
    {
      "cell_type": "code",
      "metadata": {
        "id": "z7ZSHnJlseNn"
      },
      "source": [
        "import transformers\n",
        "from transformers import BertModel, BertTokenizer"
      ],
      "execution_count": 13,
      "outputs": []
    },
    {
      "cell_type": "code",
      "metadata": {
        "id": "6-bAPkNdswl3"
      },
      "source": [
        "from tokenizers import BertWordPieceTokenizer\n",
        "vocab_path = os.path.join(os.getcwd(), \"drive\", \"My Drive\", \"Colab Notebooks\", \"bert-base-uncased-vocab.txt\")\n",
        "tokenizer2 = BertWordPieceTokenizer(vocab_path, lowercase=True)"
      ],
      "execution_count": 14,
      "outputs": []
    },
    {
      "cell_type": "code",
      "metadata": {
        "id": "I_5K4YdAs7Rb"
      },
      "source": [
        "class MTDataset(Dataset):\n",
        "    def __init__(self, source, reference, target, label, tokenizer, max_len):\n",
        "        self.source = source\n",
        "        self.reference = reference\n",
        "        self.target = target\n",
        "        self.label = label\n",
        "        self.tokenizer = tokenizer\n",
        "        self.max_len = max_len\n",
        "\n",
        "    def __len__(self):\n",
        "        return len(self.target)\n",
        "\n",
        "    def __getitem__(self, item):\n",
        "        source = str(self.source[item])\n",
        "        reference = str(self.reference[item])\n",
        "        target = str(self.target[item])\n",
        "        label = self.label[item]\n",
        "\n",
        "        encoding = tokenizer.encode_plus(\n",
        "            reference,\n",
        "            target,\n",
        "            max_length=self.max_len,\n",
        "            add_special_tokens=True,\n",
        "            return_token_type_ids=True,\n",
        "            pad_to_max_length=True,\n",
        "            return_attention_mask=True,\n",
        "            return_tensors='pt',\n",
        "        )\n",
        "\n",
        "        return {\n",
        "            'source' : source,\n",
        "            'reference' : reference,\n",
        "            'target' : target,\n",
        "            'input_ids' : encoding['input_ids'].flatten(),\n",
        "            'attention_mask' : encoding['attention_mask'].flatten(),\n",
        "            'token_type_ids' : encoding['token_type_ids'].flatten(),\n",
        "            'label': label,\n",
        "        }\n",
        "\n",
        "def create_data_loader(df, tokenizer, max_len, batch_size):\n",
        "    dataset = MTDataset(\n",
        "        source = df.source.to_numpy(),\n",
        "        reference = df.reference.to_numpy(),\n",
        "        target = df.target.to_numpy(),\n",
        "        label = df.numLabel.to_numpy(),\n",
        "        tokenizer = tokenizer,\n",
        "        max_len= max_len,\n",
        "    )\n",
        "\n",
        "    return DataLoader(dataset, batch_size=batch_size)"
      ],
      "execution_count": 66,
      "outputs": []
    },
    {
      "cell_type": "code",
      "metadata": {
        "colab": {
          "base_uri": "https://localhost:8080/",
          "height": 66,
          "referenced_widgets": [
            "21d9b476b69f4fb08e2b476cc0de02d6",
            "8d73236cb0d94c34ba8bd9aabb9f64e2",
            "cc693f6c3b064f1ab7d1544379fefd0d",
            "414c0a941a3d420aa29f70d3b1326698",
            "6191c03bf9d64ebc9a743273c485e220",
            "cd8cc94d1e0b4481a7b990c83f0cc1f9",
            "6dba627f2c774530a93ff6227570c2c7",
            "e2047025a5164daba0446a787adb159c"
          ]
        },
        "id": "GSgWnrIAt3qU",
        "outputId": "38573c1d-f4d1-4533-c55a-c0f8602c47ad"
      },
      "source": [
        "tokenizer = BertTokenizer.from_pretrained(\"bert-base-uncased\")"
      ],
      "execution_count": 16,
      "outputs": [
        {
          "output_type": "display_data",
          "data": {
            "application/vnd.jupyter.widget-view+json": {
              "model_id": "21d9b476b69f4fb08e2b476cc0de02d6",
              "version_minor": 0,
              "version_major": 2
            },
            "text/plain": [
              "HBox(children=(FloatProgress(value=0.0, description='Downloading', max=231508.0, style=ProgressStyle(descripti…"
            ]
          },
          "metadata": {
            "tags": []
          }
        },
        {
          "output_type": "stream",
          "text": [
            "\n"
          ],
          "name": "stdout"
        }
      ]
    },
    {
      "cell_type": "code",
      "metadata": {
        "id": "OWmus5gxuBiP"
      },
      "source": [
        "MAX_LEN = 512\n",
        "BATCH_SIZE = 10\n",
        "train_loader = create_data_loader(train_df, tokenizer, MAX_LEN, BATCH_SIZE)"
      ],
      "execution_count": 17,
      "outputs": []
    },
    {
      "cell_type": "markdown",
      "metadata": {
        "id": "ry9Z11qqdyjW"
      },
      "source": [
        ""
      ]
    },
    {
      "cell_type": "code",
      "metadata": {
        "id": "WMmHJh9GuHb6"
      },
      "source": [
        "class MTBert(nn.Module):\n",
        "    def __init__(self):\n",
        "        super(MTBert, self).__init__()\n",
        "\n",
        "        self.bert = BertModel.from_pretrained(\"bert-base-uncased\")\n",
        "        self.l1 = nn.Linear(self.bert.config.hidden_size, 1)\n",
        "        self.loss = nn.CrossEntropyLoss(ignore_index=512)\n",
        "\n",
        "    def compute_loss(self, pred_label, gold_label):\n",
        "        return self.loss(pred_label, gold_label)\n",
        "\n",
        "    def forward(self, input_ids, attention_mask, type_ids):\n",
        "        outputs = self.bert(input_ids, attention_mask, type_ids)\n",
        "        last_hidden_state = outputs.last_hidden_state\n",
        "        label_output = self.l1(last_hidden_state)\n",
        "\n",
        "        return label_output"
      ],
      "execution_count": 18,
      "outputs": []
    },
    {
      "cell_type": "code",
      "metadata": {
        "id": "dfZXmiS8uySn"
      },
      "source": [
        "def train(dataloader, model, optimizer, batch_size):\n",
        "    model.train()\n",
        "    epoch_loss = 0\n",
        "\n",
        "    for item in dataloader:\n",
        "        optimizer.zero_grad()\n",
        "        input_ids = item['input_ids'].to(get_device())\n",
        "        attention_mask = item['attention_mask'].to(get_device())\n",
        "        token_type_ids = item['token_type_ids'].to(get_device())\n",
        "        label = item['label'].to(get_device())\n",
        "        \n",
        "        if len(label) < 4:\n",
        "          continue\n",
        "\n",
        "        label_output = model(input_ids, attention_mask, token_type_ids)\n",
        "        \n",
        "        loss = model.compute_loss(label_output, torch.unsqueeze(label.long(), dim=-1))\n",
        "        \n",
        "        loss.backward()\n",
        "        optimizer.step()\n",
        "        epoch_loss += loss.item()\n",
        "        # break\n",
        "    return epoch_loss"
      ],
      "execution_count": 19,
      "outputs": []
    },
    {
      "cell_type": "code",
      "metadata": {
        "colab": {
          "base_uri": "https://localhost:8080/",
          "height": 115,
          "referenced_widgets": [
            "73998ed21efa4ecb9a7e87672d6f46ed",
            "4a9fcf538f0747f6910f58fd10a7b88e",
            "064a821b7dcb4ffe8709ff8e2b53a65b",
            "9fb5acdd6bb74acf8286fd86b6c56935",
            "4349bb297ba24aebb08a5087c43bf61d",
            "1dad868baa474b5887df8bb4c5d049a1",
            "e2c2dc70dc8f401a98956e53632a3773",
            "1fc05fc7cda845598c736a29fdb65d7d",
            "ae786818c08e4ee59fb0498a7fda2300",
            "6d008e0f216443b9a59aebd00b41412b",
            "75645ecfa6744f5aaaec459fba11f27a",
            "3254a2b32a504a27ad8d9be42a66a590",
            "984e67d857b44da684c7c8ec2d17054d",
            "1e21730a0007467bb5ae8228dc7ac28f",
            "e55d0c9215dd4da5a11c9c02d2607733",
            "b424f2cae9644867a83430cc29e0f66c"
          ]
        },
        "id": "Qg5ZcOiPv5a_",
        "outputId": "b290bf29-fd1f-48c7-a89c-626ea27b552a"
      },
      "source": [
        "bert_mt = MTBert().to(get_device())\n",
        "optimizer = torch.optim.AdamW(bert_mt.parameters(), lr=3e-5)"
      ],
      "execution_count": 20,
      "outputs": [
        {
          "output_type": "display_data",
          "data": {
            "application/vnd.jupyter.widget-view+json": {
              "model_id": "73998ed21efa4ecb9a7e87672d6f46ed",
              "version_minor": 0,
              "version_major": 2
            },
            "text/plain": [
              "HBox(children=(FloatProgress(value=0.0, description='Downloading', max=433.0, style=ProgressStyle(description_…"
            ]
          },
          "metadata": {
            "tags": []
          }
        },
        {
          "output_type": "stream",
          "text": [
            "\n"
          ],
          "name": "stdout"
        },
        {
          "output_type": "display_data",
          "data": {
            "application/vnd.jupyter.widget-view+json": {
              "model_id": "ae786818c08e4ee59fb0498a7fda2300",
              "version_minor": 0,
              "version_major": 2
            },
            "text/plain": [
              "HBox(children=(FloatProgress(value=0.0, description='Downloading', max=440473133.0, style=ProgressStyle(descri…"
            ]
          },
          "metadata": {
            "tags": []
          }
        },
        {
          "output_type": "stream",
          "text": [
            "\n"
          ],
          "name": "stdout"
        }
      ]
    },
    {
      "cell_type": "markdown",
      "metadata": {
        "id": "BLLhTvD_Vb51"
      },
      "source": [
        "### Train Epoch"
      ]
    },
    {
      "cell_type": "code",
      "metadata": {
        "colab": {
          "base_uri": "https://localhost:8080/"
        },
        "id": "p41MifJf7m-a",
        "outputId": "84b89f02-a748-4123-80d8-9c9f41393858"
      },
      "source": [
        "epoch = 5\n",
        "\n",
        "for i in range(epoch):\n",
        "  \n",
        "  print(f'Epoch: {i}')\n",
        "  train_loss = train(train_loader, bert_mt, optimizer, BATCH_SIZE)\n",
        "  print(f'Train Loss {train_loss:.3f}')\n",
        "  checkpt_name = 'bertMT_{}.p'.format(i)\n",
        "  state = {'net': bert_mt.state_dict(), 'optimizer': optimizer.state_dict(),}\n",
        "  torch.save(state, checkpt_name)"
      ],
      "execution_count": 21,
      "outputs": [
        {
          "output_type": "stream",
          "text": [
            "Truncation was not explicitly activated but `max_length` is provided a specific value, please use `truncation=True` to explicitly truncate examples to max length. Defaulting to 'longest_first' truncation strategy. If you encode pairs of sequences (GLUE-style) with the tokenizer you can select this strategy more precisely by providing a specific strategy to `truncation`.\n"
          ],
          "name": "stderr"
        },
        {
          "output_type": "stream",
          "text": [
            "Epoch: 0\n"
          ],
          "name": "stdout"
        },
        {
          "output_type": "stream",
          "text": [
            "/usr/local/lib/python3.6/dist-packages/transformers/tokenization_utils_base.py:2143: FutureWarning: The `pad_to_max_length` argument is deprecated and will be removed in a future version, use `padding=True` or `padding='longest'` to pad to the longest sequence in the batch, or use `padding='max_length'` to pad to a max length. In this case, you can give a specific length with `max_length` (e.g. `max_length=45`) or leave max_length to None to pad to the maximal input size of the model (e.g. 512 for Bert).\n",
            "  FutureWarning,\n"
          ],
          "name": "stderr"
        },
        {
          "output_type": "stream",
          "text": [
            "Train Loss 109.362\n",
            "Epoch: 1\n",
            "Train Loss 22.612\n",
            "Epoch: 2\n",
            "Train Loss 9.804\n",
            "Epoch: 3\n",
            "Train Loss 6.008\n",
            "Epoch: 4\n",
            "Train Loss 1.737\n"
          ],
          "name": "stdout"
        }
      ]
    },
    {
      "cell_type": "markdown",
      "metadata": {
        "id": "ErkphGOiN3tO"
      },
      "source": [
        "###Validate using test.txt"
      ]
    },
    {
      "cell_type": "code",
      "metadata": {
        "id": "BlcKQWGC8QfA"
      },
      "source": [
        "def validate(model, dataloader, tokenizer):\n",
        "    model.eval()\n",
        "    counter = 0\n",
        "    gold = []\n",
        "    outputs = []\n",
        "    for item in dataloader:\n",
        "        input_ids = item['input_ids'].to(get_device())\n",
        "        attention_mask = item['attention_mask'].to(get_device())\n",
        "        token_type_ids = item['token_type_ids'].to(get_device())\n",
        "        label_gold = item['label'].to(get_device())\n",
        "        \n",
        "        label_output = model(input_ids, attention_mask, token_type_ids)\n",
        "        softmax_output = F.softmax(label_output, dim=1)\n",
        "        \n",
        "\n",
        "        label_answer = torch.argmax(softmax_output)\n",
        "        # print(f'generated_answer: {label_answer}')\n",
        "        gold.append(label_gold.cpu().numpy())\n",
        "        outputs.append(label_answer.cpu().numpy())\n",
        "        \n",
        "        counter += 1\n",
        "\n",
        "    return gold, outputs\n",
        "        "
      ],
      "execution_count": 43,
      "outputs": []
    },
    {
      "cell_type": "code",
      "metadata": {
        "id": "ejYP7oiA_qB5"
      },
      "source": [
        "val_loader = create_data_loader(test_df, tokenizer, MAX_LEN, 1)"
      ],
      "execution_count": 67,
      "outputs": []
    },
    {
      "cell_type": "code",
      "metadata": {
        "colab": {
          "base_uri": "https://localhost:8080/"
        },
        "id": "mHy0qkDx_w0x",
        "outputId": "245de684-5e36-442d-e107-faa4182f430b"
      },
      "source": [
        "gold_labels, output = validate(bert_mt, val_loader, tokenizer)"
      ],
      "execution_count": 68,
      "outputs": [
        {
          "output_type": "stream",
          "text": [
            "/usr/local/lib/python3.6/dist-packages/transformers/tokenization_utils_base.py:2143: FutureWarning: The `pad_to_max_length` argument is deprecated and will be removed in a future version, use `padding=True` or `padding='longest'` to pad to the longest sequence in the batch, or use `padding='max_length'` to pad to a max length. In this case, you can give a specific length with `max_length` (e.g. `max_length=45`) or leave max_length to None to pad to the maximal input size of the model (e.g. 512 for Bert).\n",
            "  FutureWarning,\n"
          ],
          "name": "stderr"
        }
      ]
    },
    {
      "cell_type": "code",
      "metadata": {
        "id": "fAltrwNPHUwW"
      },
      "source": [
        "gold = list(chain.from_iterable(gold_labels))"
      ],
      "execution_count": 79,
      "outputs": []
    },
    {
      "cell_type": "code",
      "metadata": {
        "id": "0oiyXWyd_779"
      },
      "source": [
        "preds = [int(x) for x in output]"
      ],
      "execution_count": 80,
      "outputs": []
    },
    {
      "cell_type": "markdown",
      "metadata": {
        "id": "o0mlOXoTVhA0"
      },
      "source": [
        "### F-1 score and confusion matrix"
      ]
    },
    {
      "cell_type": "code",
      "metadata": {
        "id": "-XwdpjdeAh9Y"
      },
      "source": [
        "import sklearn\n",
        "from sklearn.metrics import f1_score, roc_auc_score"
      ],
      "execution_count": 48,
      "outputs": []
    },
    {
      "cell_type": "code",
      "metadata": {
        "colab": {
          "base_uri": "https://localhost:8080/"
        },
        "id": "jaMOC8XKGY_A",
        "outputId": "725d130b-bd66-4f22-df6c-ae070fd0e3cc"
      },
      "source": [
        "f1_score(gold, preds)"
      ],
      "execution_count": 81,
      "outputs": [
        {
          "output_type": "execute_result",
          "data": {
            "text/plain": [
              "0.9411764705882353"
            ]
          },
          "metadata": {
            "tags": []
          },
          "execution_count": 81
        }
      ]
    },
    {
      "cell_type": "code",
      "metadata": {
        "colab": {
          "base_uri": "https://localhost:8080/"
        },
        "id": "ruHVA8g-KOzc",
        "outputId": "b04f0286-03ef-4601-9d4e-4009ec5366eb"
      },
      "source": [
        "!pip install plot-metric"
      ],
      "execution_count": 51,
      "outputs": [
        {
          "output_type": "stream",
          "text": [
            "Collecting plot-metric\n",
            "  Downloading https://files.pythonhosted.org/packages/95/2a/dae5d81116c8226c7fdbd711460ea568ac87420cd447cf219524695646c2/plot_metric-0.0.6-py3-none-any.whl\n",
            "Requirement already satisfied: colorlover>=0.3.0 in /usr/local/lib/python3.6/dist-packages (from plot-metric) (0.3.0)\n",
            "Requirement already satisfied: pandas>=0.23.4 in /usr/local/lib/python3.6/dist-packages (from plot-metric) (1.1.5)\n",
            "Requirement already satisfied: seaborn>=0.9.0 in /usr/local/lib/python3.6/dist-packages (from plot-metric) (0.11.1)\n",
            "Requirement already satisfied: scikit-learn>=0.21.2 in /usr/local/lib/python3.6/dist-packages (from plot-metric) (0.22.2.post1)\n",
            "Requirement already satisfied: matplotlib>=3.0.2 in /usr/local/lib/python3.6/dist-packages (from plot-metric) (3.2.2)\n",
            "Requirement already satisfied: scipy>=1.1.0 in /usr/local/lib/python3.6/dist-packages (from plot-metric) (1.4.1)\n",
            "Requirement already satisfied: numpy>=1.15.4 in /usr/local/lib/python3.6/dist-packages (from plot-metric) (1.19.5)\n",
            "Requirement already satisfied: pytz>=2017.2 in /usr/local/lib/python3.6/dist-packages (from pandas>=0.23.4->plot-metric) (2018.9)\n",
            "Requirement already satisfied: python-dateutil>=2.7.3 in /usr/local/lib/python3.6/dist-packages (from pandas>=0.23.4->plot-metric) (2.8.1)\n",
            "Requirement already satisfied: joblib>=0.11 in /usr/local/lib/python3.6/dist-packages (from scikit-learn>=0.21.2->plot-metric) (1.0.0)\n",
            "Requirement already satisfied: pyparsing!=2.0.4,!=2.1.2,!=2.1.6,>=2.0.1 in /usr/local/lib/python3.6/dist-packages (from matplotlib>=3.0.2->plot-metric) (2.4.7)\n",
            "Requirement already satisfied: cycler>=0.10 in /usr/local/lib/python3.6/dist-packages (from matplotlib>=3.0.2->plot-metric) (0.10.0)\n",
            "Requirement already satisfied: kiwisolver>=1.0.1 in /usr/local/lib/python3.6/dist-packages (from matplotlib>=3.0.2->plot-metric) (1.3.1)\n",
            "Requirement already satisfied: six>=1.5 in /usr/local/lib/python3.6/dist-packages (from python-dateutil>=2.7.3->pandas>=0.23.4->plot-metric) (1.15.0)\n",
            "Installing collected packages: plot-metric\n",
            "Successfully installed plot-metric-0.0.6\n"
          ],
          "name": "stdout"
        }
      ]
    },
    {
      "cell_type": "code",
      "metadata": {
        "colab": {
          "base_uri": "https://localhost:8080/",
          "height": 364
        },
        "id": "y7lVRw0NJWTN",
        "outputId": "6c210061-3346-4838-de60-cb55dbaaacba"
      },
      "source": [
        "import matplotlib.pyplot as plt\n",
        "from plot_metric.functions import BinaryClassification\n",
        "# Visualisation with plot_metric\n",
        "bc = BinaryClassification(gold, preds, labels=[\"Machine\", \"Human\"])\n",
        "\n",
        "# Figures\n",
        "plt.figure(figsize=(5,5))\n",
        "bc.plot_confusion_matrix(normalize=True)\n",
        "# bc.plot_roc_curve()\n",
        "plt.show()"
      ],
      "execution_count": 83,
      "outputs": [
        {
          "output_type": "display_data",
          "data": {
            "image/png": "[encoded data removed]",
            "text/plain": [
              "<Figure size 360x360 with 2 Axes>"
            ]
          },
          "metadata": {
            "tags": []
          }
        }
      ]
    },
    {
      "cell_type": "code",
      "metadata": {
        "id": "o2wyX_5Har6M"
      },
      "source": [
        ""
      ],
      "execution_count": null,
      "outputs": []
    }
  ]
}